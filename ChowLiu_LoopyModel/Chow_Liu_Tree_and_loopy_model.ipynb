{
 "cells": [
  {
   "cell_type": "code",
   "execution_count": 1,
   "metadata": {
    "collapsed": false
   },
   "outputs": [
    {
     "name": "stdout",
     "output_type": "stream",
     "text": [
      "2760 30\n"
     ]
    }
   ],
   "source": [
    "##### load rainfall data and locations\n",
    "import numpy as np\n",
    "import networkx as nx\n",
    "import matplotlib.pyplot as plt\n",
    "import os\n",
    "D = np.genfromtxt('/Users/Claire/Desktop/graphical_model/HW2c/data/data.txt',delimiter=None,dtype = int)\n",
    "loc = np.genfromtxt('/Users/Claire/Desktop/graphical_model/HW2c/data/locations.txt',delimiter=None)\n",
    "m,n = D.shape\n",
    "print (m,n)"
   ]
  },
  {
   "cell_type": "code",
   "execution_count": 2,
   "metadata": {
    "collapsed": false
   },
   "outputs": [
    {
     "name": "stderr",
     "output_type": "stream",
     "text": [
      "/Users/Claire/anaconda/lib/python3.5/site-packages/ipykernel/__main__.py:20: RuntimeWarning: divide by zero encountered in log\n",
      "/Users/Claire/anaconda/lib/python3.5/site-packages/ipykernel/__main__.py:20: RuntimeWarning: invalid value encountered in double_scalars\n"
     ]
    }
   ],
   "source": [
    "#Compute the empirical mutual information score for each pair of locations\n",
    "px = np.zeros((n,2))\n",
    "for i in range(n):\n",
    "  for j in range(m):\n",
    "    px[i][D[j][i]] +=1\n",
    "  px[i] /=px[i].sum()\n",
    "  \n",
    "pxx = np.zeros((n,n,2,2))\n",
    "for i in range(n):\n",
    "  for j in range(n):\n",
    "    for k in range(m):\n",
    "      pxx[i][j][D[k][i]][D[k][j]] +=1\n",
    "    pxx[i][j] /=m\n",
    "\n",
    "I = np.zeros((n,n))\n",
    "for i in range(n):\n",
    "  for j in range(n):\n",
    "    for k in range(2):\n",
    "      for q in range(2):\n",
    "        I[i][j] +=pxx[i][j][k][q] * np.log(pxx[i][j][k][q]/(px[i][k]*px[j][q]))\n"
   ]
  },
  {
   "cell_type": "code",
   "execution_count": 3,
   "metadata": {
    "collapsed": false
   },
   "outputs": [
    {
     "name": "stdout",
     "output_type": "stream",
     "text": [
      "[(0, 2), (1, 4), (2, 17), (2, 16), (3, 12), (3, 29), (3, 5), (4, 6), (5, 6), (7, 10), (7, 13), (8, 13), (9, 10), (10, 14), (11, 12), (11, 14), (13, 15), (17, 18), (17, 20), (18, 19), (20, 27), (21, 24), (21, 25), (21, 27), (22, 26), (22, 28), (22, 23), (27, 29), (28, 29)]\n",
      "end\n"
     ]
    }
   ],
   "source": [
    "edges = np.genfromtxt('/Users/Claire/Desktop/graphical_model/HW2c/data/edges.txt', delimiter=None, dtype=int)\n",
    "\n",
    "G = nx.Graph()\n",
    "for u,v in edges:\n",
    "  if I[u][v] > 0:\n",
    "    G.add_edge(u,v,weight=-1*I[u][v], color = 'b')\n",
    "    \n",
    "T = nx.minimum_spanning_tree(G)\n",
    "\n",
    "print(T.edges())\n",
    "\n",
    "location = {i:loc[i] for i in range(n)}\n",
    "colors = [G[u][v]['color'] for u,v in T.edges()]\n",
    "nx.draw_networkx(T, pos=location, edge_color=colors)\n",
    "#plt.show()\n",
    "print ('end')\n"
   ]
  },
  {
   "cell_type": "code",
   "execution_count": 4,
   "metadata": {
    "collapsed": false
   },
   "outputs": [
    {
     "name": "stdout",
     "output_type": "stream",
     "text": [
      "-11.0986143278\n"
     ]
    }
   ],
   "source": [
    "L = 0.0\n",
    "for i in range(n):\n",
    "    L =L + px[i][0] * np.log(px[i][0]) + px[i][1] * np.log(px[i][1])\n",
    "    \n",
    "for u,v in T.edges():\n",
    "    L = L + I[u][v]\n",
    "\n",
    "print (L)"
   ]
  },
  {
   "cell_type": "code",
   "execution_count": 5,
   "metadata": {
    "collapsed": false
   },
   "outputs": [
    {
     "name": "stdout",
     "output_type": "stream",
     "text": [
      "end\n"
     ]
    }
   ],
   "source": [
    "T_loopy = nx.Graph()\n",
    "for i in range(n):\n",
    "    T_loopy.add_node(i)\n",
    "for u,v in edges:\n",
    "    T_loopy.add_edge(u,v,color='b')\n",
    "colors = [T_loopy[u][v]['color'] for u,v in T_loopy.edges()]\n",
    "nx.draw_networkx(T_loopy, pos=location, edge_color=colors)\n",
    "#plt.show()\n",
    "print ('end')"
   ]
  },
  {
   "cell_type": "code",
   "execution_count": 6,
   "metadata": {
    "collapsed": false
   },
   "outputs": [
    {
     "name": "stdout",
     "output_type": "stream",
     "text": [
      "end\n"
     ]
    }
   ],
   "source": [
    "os.chdir('/Users/Claire/Desktop/graphical_model/HW2c')\n",
    "import pyGM as gm\n",
    "X = [gm.Var(i,2) for i in range(n)]\n",
    "margin = [gm.Factor([X[u],X[v]],1.0) for u,v in edges]\n",
    "i = 0\n",
    "for u,v in edges:\n",
    "    margin[i].table = pxx[u][v]\n",
    "#    print (margin[i].table)\n",
    "    i = i + 1\n",
    "print ('end')"
   ]
  },
  {
   "cell_type": "code",
   "execution_count": 18,
   "metadata": {
    "collapsed": false
   },
   "outputs": [
    {
     "name": "stdout",
     "output_type": "stream",
     "text": [
      "0 -10.8513816379\n",
      "1 -9.84558468609\n",
      "2 -9.72858546141\n",
      "3 -9.69914558037\n",
      "4 -9.69306861303\n",
      "5 -9.69172028546\n",
      "6 -9.69145497724\n",
      "7 -9.69139742605\n",
      "8 -9.69138277553\n",
      "9 -9.69137901583\n",
      "10 -9.69137807993\n",
      "11 -9.69137785779\n",
      "12 -9.69137780958\n",
      "13 -9.69137780009\n",
      "14 -9.69137779824\n",
      "15 -9.69137779781\n",
      "16 -9.69137779769\n",
      "17 -9.69137779766\n",
      "18 -9.69137779765\n",
      "19 -9.69137779765\n",
      "end\n"
     ]
    }
   ],
   "source": [
    "factors = [gm.Factor([X[u],X[v]],1.0) for u,v in edges]\n",
    "for i in range(len(factors)):\n",
    "    factors[i].table = np.random.rand(2,2)\n",
    "    \n",
    "iteration = 20\n",
    "\n",
    "LL = np.zeros(iteration)\n",
    "model = gm.GraphModel(factors)\n",
    "\n",
    "for i in range(iteration):\n",
    "    for j in range(len(edges)):\n",
    "        u,v = edges[j]\n",
    "        model_ve = gm.GraphModel(factors)\n",
    "        pri = [1.0 for xi in X]\n",
    "        pri[u],pri[v] = 2.0,2.0\n",
    "        order = gm.eliminationOrder(model_ve, orderMethod='minfill', priority=pri)[0]\n",
    "        sumElim = lambda F,Xlist: F.sum(Xlist)   # helper function for eliminate\n",
    "        model_ve.eliminate(order[:-2], sumElim)  # eliminate all but last two\n",
    "        puv= model_ve.joint()\n",
    "        lnZ = np.log(puv.sum())\n",
    "        puv /= puv.sum()\n",
    "        factors[j].table = factors[j].table * margin[j].table / puv.table\n",
    "    model = gm.GraphModel(factors)\n",
    "    LL[i] = np.sum(model.logValue(d) for d in D)/m - lnZ\n",
    "    print (i, LL[i])\n",
    "plt.plot(np.arange(0,iteration), LL, marker = 'o')\n",
    "plt.show()\n",
    "print ('end')\n"
   ]
  },
  {
   "cell_type": "code",
   "execution_count": null,
   "metadata": {
    "collapsed": true
   },
   "outputs": [],
   "source": []
  },
  {
   "cell_type": "code",
   "execution_count": null,
   "metadata": {
    "collapsed": true
   },
   "outputs": [],
   "source": []
  },
  {
   "cell_type": "code",
   "execution_count": null,
   "metadata": {
    "collapsed": true
   },
   "outputs": [],
   "source": []
  }
 ],
 "metadata": {
  "kernelspec": {
   "display_name": "Python 3",
   "language": "python",
   "name": "python3"
  },
  "language_info": {
   "codemirror_mode": {
    "name": "ipython",
    "version": 3
   },
   "file_extension": ".py",
   "mimetype": "text/x-python",
   "name": "python",
   "nbconvert_exporter": "python",
   "pygments_lexer": "ipython3",
   "version": "3.5.1"
  }
 },
 "nbformat": 4,
 "nbformat_minor": 0
}
