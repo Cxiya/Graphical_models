{
 "cells": [
  {
   "cell_type": "code",
   "execution_count": 1,
   "metadata": {
    "collapsed": false
   },
   "outputs": [],
   "source": [
    "from sklearn.linear_model import LinearRegression\n",
    "from sklearn.metrics import mean_squared_error\n",
    "from urllib2 import Request, urlopen, URLError\n",
    "from bs4 import BeautifulSoup\n",
    "import re\n",
    "import turtle\n",
    "import time\n",
    "import numpy as np\n",
    "import math\n",
    "#import matplotlib.pyplot as plt\n",
    "from scipy.interpolate import Rbf\n",
    "#from matplotlib import cm\n",
    "key = '07d22a108ce3c30cbbda6fe440292e7d'\n",
    "PI = 3.1415926\n",
    "classification = [[1,2,3,4],5,[6,7],[8,11],9,10,12,[13,14,16],15,17,18,20]#POI classification\n",
    "para1 = ['AQI','NO2','PM25','PM10','CO','O3','SO2','Wind','Pressure','Temperature','Humidity']\n",
    "para2 = ['Wind','Humidity','Pressure','Temperature','NO2','PM25','PM10','CO','O3','SO2','AQI']"
   ]
  },
  {
   "cell_type": "code",
   "execution_count": 2,
   "metadata": {
    "collapsed": false
   },
   "outputs": [],
   "source": [
    "def TrafficBasedInterpolation(Coordinate,Data,currentC):\n",
    "    Dist = list()\n",
    "    #DIS = 0\n",
    "    d = 0\n",
    "    #Dist_copy = list()\n",
    "    TraffiC = np.asarray(getTrafficFromGPS(currentC[0],currentC[1],1000)[0])\n",
    "    for cor in Coordinate:\n",
    "        #print cor\n",
    "        if getTrafficFromGPS(cor[0],cor[1],1000):\n",
    "            TraffiV = np.asarray(getTrafficFromGPS(cor[0],cor[1],1000)[0])\n",
    "        dis = (np.sqrt(sum((TraffiC - TraffiV)**2)))**(-1)\n",
    "        Dist.append(dis)\n",
    "        #DIS = DIS + dis\n",
    "    d = Dist.index(min(Dist))\n",
    "    return d\n",
    "\n",
    "def POIBasedInterpolation(Coordinate,Data,currentC):\n",
    "    Dist = list()\n",
    "    #DIS = 0\n",
    "    d = 0\n",
    "    #Dist_copy = list()\n",
    "    POIC = np.asarray(getPOIsFromGPS(currentC[0],currentC[1],1000))\n",
    "    for cor in Coordinate:\n",
    "        #print cor\n",
    "        POI = np.asarray(getPOIsFromGPS(cor[0],cor[1],1000))\n",
    "        dis = (np.sqrt(sum((POIC - POI)**2)))**(-1)\n",
    "        Dist.append(dis)\n",
    "        #DIS = DIS + dis\n",
    "    d = Dist.index(min(Dist))\n",
    "    return d\n",
    "\n",
    "def getOnlineDataFromMS_Station(Coordinate):\n",
    "    Data = list()\n",
    "    for i in range(0,11):\n",
    "        l = list()\n",
    "        Data.append(l)\n",
    "    for cor in Coordinate:\n",
    "        URL = 'http://urbanair.msra.cn/U_Air/SearchStation?Latitude='+str(cor[0])+'&Longitude='+str(cor[1])+'&Standard=0'\n",
    "        request = Request(URL)\n",
    "        try:\n",
    "            response = urlopen(request)\n",
    "            kittens = response.read()\n",
    "            llist = re.split(':',kittens);\n",
    "            #print kittens\n",
    "            for i in range(3,14):\n",
    "                a = re.split(',',llist[i])\n",
    "                if a[0] == 'null':\n",
    "                #Data[i-1].append(None)\n",
    "                    Data[i-3].append(None)\n",
    "                else:\n",
    "                    #Data[i-1].append(float(a[0]))\n",
    "                    Data[i-3].append(float(a[0]))\n",
    "                #print type(kittens)\n",
    "        except URLError, e:\n",
    "            print 'Got an error code:', e\n",
    "    return Data\n",
    "\n",
    "def getOnlineDataFromMS(Coordinate):\n",
    "    Data = list()\n",
    "    for i in range(0,11):\n",
    "        l = list()\n",
    "        Data.append(l)\n",
    "    for cor in Coordinate:\n",
    "        URL = 'http://urbanair.msra.cn/U_Air/SearchGeoPoint?Latitude='+str(cor[0])+'&Longitude='+str(cor[1])+'&Standard=0&Culture=zh-CN'\n",
    "        request = Request(URL)\n",
    "        try:\n",
    "            response = urlopen(request)\n",
    "            kittens = response.read()\n",
    "            llist = re.split(':',kittens);\n",
    "            #print kittens\n",
    "            for i in range(1,8):\n",
    "                a = re.split(',',llist[i])\n",
    "                if a[0] == 'null':\n",
    "                    Data[i-1].append(None)\n",
    "                else:\n",
    "                    Data[i-1].append(float(a[0]))\n",
    "                #print type(kittens)\n",
    "            for i in range(10,14):\n",
    "                a = re.split(',',llist[i])\n",
    "                if a[0] == 'null':\n",
    "                    Data[i-3].append(None)\n",
    "                else:\n",
    "                    Data[i-3].append(float(a[0]))\n",
    "                #print type(kittens)\n",
    "        except URLError, e:\n",
    "            print 'Got an error code:', e\n",
    "    return Data\n",
    "\n",
    "def getPredictPM25FromGPS(x,y):\n",
    "    URL = 'http://urbanair.msra.cn/U_Air/SearchPrediction_48V2?Latitude=' + str(x) + '&Longitude=' + str(y) + '&Pollutant=PM25' \n",
    "    request = Request(URL)\n",
    "    predict = []\n",
    "    try:\n",
    "        response = urlopen(request)\n",
    "        kittens = response.read()\n",
    "        llist = re.split(':',kittens);\n",
    "        llist = re.split(',',llist[1])\n",
    "        predict.append(int(llist[0][1:]))\n",
    "        for i in range(1,13):\n",
    "            predict.append(int(llist[i]))\n",
    "        predict.append(int(llist[13][:-1]))\n",
    "    except URLError, e:\n",
    "        print 'Got an error code:', e\n",
    "    return predict#[0:7定时预测，8:13三个区间]\n",
    "\n",
    "def getTrafficFromGPS(x,y,r):\n",
    "    URL = 'http://restapi.amap.com/v3/traffic/status/circle?key='+key+'&location='+str(y)+','+str(x)+'&radius='+str(r)+'&output=xml&offset=20&page=1&extensions=all' \n",
    "    request = Request(URL)\n",
    "    try:\n",
    "        response = urlopen(request)\n",
    "        kittens = response.read()\n",
    "    except URLError, e:\n",
    "        print 'Got an error code:', e\n",
    "    soup = BeautifulSoup(kittens,\"html.parser\")\n",
    "    trafficV = np.zeros(4)\n",
    "    #print type(soup.evaluation.contents)\n",
    "    if soup.evaluation==None:\n",
    "        print(\"No Data\")\n",
    "        return False\n",
    "    if soup.evaluation.expedite.contents==[]:\n",
    "        print (\"No Data\")\n",
    "        return False\n",
    "    #print soup.evaluation.congested.contents\n",
    "    #print soup.evaluation.blocked.contents\n",
    "    #print soup.evaluation.unknown.contents\n",
    "    trafficV[0] = float(soup.evaluation.expedite.contents[0][:4])\n",
    "    trafficV[1] = float(soup.evaluation.congested.contents[0][:4])\n",
    "    trafficV[2] = float(soup.evaluation.blocked.contents[0][:4])\n",
    "    trafficV[3] = float(soup.evaluation.unknown.contents[0][:4])\n",
    "    return trafficV,True\n",
    "\n",
    "def getPOIsFromGPS(x,y,r):\n",
    "    URL = 'http://restapi.amap.com/v3/place/around?key='+key+'&location='+str(y)+','+str(x)+'&output=xml&radius='+str(r)+'&offset=20&page=1&extensions=all'\n",
    "    request = Request(URL)\n",
    "    try:\n",
    "        response = urlopen(request)\n",
    "        kittens = response.read()\n",
    "    except URLError, e:\n",
    "        print 'Got an error code:', e\n",
    "    soup = BeautifulSoup(kittens,\"html.parser\")\n",
    "    a = soup.pois\n",
    "    poiV = np.zeros(12)\n",
    "    for child in a:\n",
    "        #print child.typecode.contents[0][:6]\n",
    "        b = int(child.typecode.contents[0][:6])\n",
    "        if b/10000>0 and b/10000<5:\n",
    "            poiV[0] = poiV[0]+1\n",
    "        elif b/10000==5:\n",
    "            poiV[1] = poiV[1]+1\n",
    "        elif b/10000==6 or b/10000==7:\n",
    "            poiV[2] = poiV[2]+1\n",
    "        elif b/10000==8 or b/10000==11:\n",
    "            poiV[3] = poiV[3]+1\n",
    "        elif b/10000==9:\n",
    "            poiV[4] = poiV[4]+1\n",
    "        elif b/10000==10:\n",
    "            poiV[5] = poiV[5]+1\n",
    "        elif b/10000==12:\n",
    "            poiV[6] = poiV[6]+1\n",
    "        elif b/10000==13 or b/10000==14 or b/10000==16:\n",
    "            poiV[7] = poiV[7]+1\n",
    "        elif b/10000==15:\n",
    "            poiV[5] = poiV[8]+1\n",
    "        elif b/10000==17:\n",
    "            poiV[5] = poiV[9]+1\n",
    "        elif b/10000==18:\n",
    "            poiV[5] = poiV[10]+1\n",
    "        elif b/10000==20:\n",
    "            poiV[5] = poiV[11]+1\n",
    "    return poiV\n",
    "\n",
    "def getLocationFromKeywords(keywords):\n",
    "    URL = 'http://restapi.amap.com/v3/place/text?&keywords=' + keywords + '&city=beijing&output=xml&offset=20&page=1&key='+key+'&extensions=all'\n",
    "    request = Request(URL)\n",
    "    try:\n",
    "        response = urlopen(request)\n",
    "        kittens = response.read()\n",
    "    except URLError, e:\n",
    "        print 'Got an error code:', e\n",
    "    soup = BeautifulSoup(kittens,\"html.parser\")\n",
    "    Str = soup.location.string\n",
    "    lstr = re.split(',',Str)\n",
    "    lon = float(lstr[0])\n",
    "    lat = float(lstr[1])\n",
    "    return lat,lon\n",
    "\n",
    "def DistantBasedInterpolation(Coordinate,Data,currentC):\n",
    "    Dist = list()\n",
    "    DIS = 0\n",
    "    d = 0\n",
    "    #Dist_copy = list()\n",
    "    for cor in Coordinate:\n",
    "        dis = (np.sqrt(((cor[0] - currentC[0])**2+(cor[1]-currentC[1])**2)))**(-1)\n",
    "        Dist.append(dis)\n",
    "        DIS = DIS + dis\n",
    "    for i in range(0,len(Coordinate)):\n",
    "        #print Dist[i]\n",
    "        if Data[i]==None:\n",
    "            Data[i] = 0\n",
    "        d = d + (Dist[i]/DIS)*Data[i]\n",
    "    return d\n",
    "\n",
    "def compare(a,b):\n",
    "    x=[a[0]-p0[0],a[1]-p0[1]]\n",
    "    y=[b[0]-p0[0],b[1]-p0[1]]\n",
    "    dx=(x[0]**2+x[1]**2)**0.5\n",
    "    dy=(y[0]**2+y[1]**2)**0.5\n",
    "    cosa=x[0]/dx\n",
    "    cosb=y[0]/dy\n",
    "    if cosa < cosb:\n",
    "        return 1\n",
    "    elif cosa > cosb:\n",
    "        return -1\n",
    "    else:\n",
    "        if dx<dy:\n",
    "            return -1\n",
    "        elif dx>dy:\n",
    "            return 1\n",
    "        else:\n",
    "            return 0\n",
    "        \n",
    "def windingNumber(p, poly):\n",
    "    sum = 0\n",
    "    px = p[0]\n",
    "    py = p[1]\n",
    "    print px,py\n",
    "    l = len(poly)\n",
    "    for i in range(0,l):\n",
    "        if i == 0:\n",
    "            j = l-1\n",
    "        else:\n",
    "            j = i-1\n",
    "        sx = poly[i][0]\n",
    "        sy = poly[i][1]\n",
    "        tx = poly[j][0]\n",
    "        ty = poly[j][1]\n",
    "        #点与多边形顶点重合或在多边形的边上\n",
    "        if (sx - px) * (px - tx) >= 0 and (sy - py) * (py - ty) >= 0 and (px - sx) * (ty - sy) == (py - sy) * (tx - sx):\n",
    "            return True\n",
    "        #点与相邻顶点连线的夹角\n",
    "        angle = math.atan2(sy - py, sx - px) - math.atan2(ty - py, tx - px)\n",
    "        #确保夹角不超出取值范围（-π 到 π）\n",
    "        if angle >= PI:\n",
    "            angle = angle - PI * 2\n",
    "        elif angle <= -PI: \n",
    "            angle = angle + PI * 2\n",
    "        sum =sum + angle\n",
    "        #计算回转数并判断点和多边形的几何关系\n",
    "        if sum / PI >= -0.01 and sum / PI <= 0.01:\n",
    "            return False\n",
    "        else:\n",
    "            return True\n",
    "        \n",
    "def ScatterInterpolation(Coordinate,currentC,Data):\n",
    "    x = []\n",
    "    y = []\n",
    "    for i in range(0,len(Coordinate)):\n",
    "        x.append(Coordinate[i][0])\n",
    "        y.append(Coordinate[i][1])\n",
    "    x = np.asarray(x)\n",
    "    y = np.asarray(y)\n",
    "    z = np.asarray(Data)\n",
    "    rbf = Rbf(x, y, z, epsilon=1)\n",
    "    ZI = rbf(currentC[0], currentC[1])\n",
    "    return ZI\n",
    "\n",
    "def TriangleInterpolation(x1,y1,x2,y2,x3,y3,x,y,a,b,c):\n",
    "    d = a + (b-a)*((x-x1)*(y3-y1)+(y-y1)*(x1-x3))/((y3-y1)*(x2-x1)+(y1-y2)*(x3-x1)) +\\\n",
    "    (c-a)*((y-y1)*(x2-x1)+(y1-y2)*(x-x1))/((y3-y1)*(x2-x1)+(y1-y2)*(x3-x1))\n",
    "    return d   \n",
    "\n",
    "def FindThreePoints(Coordinate,currentC):\n",
    "    Dist = list()\n",
    "    #Dist_copy = list()\n",
    "    for cor in Coordinate:\n",
    "        dis = np.sqrt(((cor[0] - currentC[0])**2+(cor[1]-currentC[1])**2))\n",
    "        Dist.append(dis)\n",
    "        #Dist_copy.append(dis)\n",
    "    MAX = max(Dist)\n",
    "    p1 = Dist.index(min(Dist))\n",
    "    Dist[p1] = MAX\n",
    "    p2 = Dist.index(min(Dist))\n",
    "    Dist[p2] = MAX\n",
    "    p3 = Dist.index(min(Dist))\n",
    "    #return Dist_copy[p1],Dist_copy[p2],Dist_copy[p3]\n",
    "    return Coordinate[p1],Coordinate[p2],Coordinate[p3]\n",
    "\n",
    "def getCoordinate():\n",
    "    file_ads = \"/Users/Claire/Desktop/intern/20170317/UrbanAir_get/airStation.txt\" \n",
    "    f = open(file_ads,\"r\");\n",
    "    line = f.readline();\n",
    "    point = list()\n",
    "    Coordinate = list()\n",
    "    while line:\n",
    "    #print line\n",
    "        llist = re.split('=',line);\n",
    "        x = re.split('&',llist[1])\n",
    "        y = re.split('&',llist[2])\n",
    "        cor = [float(x[0]),float(y[0])]\n",
    "        point.append(cor)\n",
    "        Coordinate.append(cor)\n",
    "        line = f.readline();\n",
    "    return point, Coordinate\n",
    "\n",
    "def getCircle(point):\n",
    "    global p0\n",
    "    n=0\n",
    "    for i in range(len(point)):\n",
    "        if point[n][1]>point[i][1]:\n",
    "            n=i\n",
    "    p0=point[n]\n",
    "    point.pop(n)\n",
    "    point.sort(compare)\n",
    "    point.insert(0,p0)\n",
    "    ep=point[:]#复制元素，操作ep不会对point产生影响\n",
    "    tag=0\n",
    "    while tag==0:\n",
    "        tag=1\n",
    "        l=len(ep)\n",
    "        for i in range(l):\n",
    "            i1,i2,i3=(i,(i+1)%l,(i+2)%l)\n",
    "            x,y,z=(ep[i1],ep[i2],ep[i3])\n",
    "            a1,a2=((y[0]-x[0],y[1]-x[1]),(z[0]-y[0],z[1]-y[1]))\n",
    "            if a1[0]*a2[1]-a1[1]*a2[0] < 0:\n",
    "                tag=0\n",
    "                ep.pop(i2)\n",
    "                break\n",
    "            elif a1[0]*a2[1]-a1[1]*a2[0]==0 and a1[0]*a2[0]<0:\n",
    "            #==0应改写,360度的情况\n",
    "                tag=0\n",
    "                ep.pop(i2)\n",
    "                break\n",
    "    return ep;\n",
    "\n",
    "def getDataForKeywords(keywords):\n",
    "    point,Coordinate = getCoordinate()\n",
    "    x,y = getLocationFromKeywords(keywords)\n",
    "    p = [x,y] \n",
    "    ep = getCircle(point)\n",
    "    Data = getOnlineDataFromMS(Coordinate)\n",
    "    if windingNumber(p,ep):\n",
    "        d = DistantBasedInterpolation(Coordinate,Data[0],p)\n",
    "        dPOI = POIBasedInterpolation(Coordinate,Data[0],p)\n",
    "        dTraffic = TrafficBasedInterpolation(Coordinate,Data,p)\n",
    "    else:\n",
    "        dPOI = POIBasedInterpolation(Coordinate,Data[0],p)\n",
    "    return d,dPOI,dTraffic"
   ]
  },
  {
   "cell_type": "code",
   "execution_count": 3,
   "metadata": {
    "collapsed": true
   },
   "outputs": [],
   "source": [
    "#TrafficBasedInterpolation(Coordinate,Data,currentC) #匹配最相近的交通状况\n",
    "#POIBasedInterpolation(Coordinate,Data,currentC) #匹配最相近的POI状况\n",
    "#Data = getOnlineDataFromMS(Coordinate) #得到基站的时实时数据，数据类型详见para\n",
    "#getPredictPM25FromGPS(x,y) #给定坐标得到PM25预测数据\n",
    "#getTrafficFromGPS(x,y,r) #得到交通数据通过坐标及半径\n",
    "#getPOIsFromGPS(x,y,r) #得到POI数据通过坐标和半径\n",
    "#getLocationFromKeywords(keywords) #通过关键字找到坐标\n",
    "#DistantBasedInterpolation(Coordinate,Data,currentC) #通过距离插值得到某个点的预测\n",
    "#windingNumber(p, poly) #判断点p是否在poly多边形内部\n",
    "#point, Coordinate = getCoordinate() #得到基站的坐标\n",
    "#ep = getCircle(point) #得到点的外包多边形"
   ]
  },
  {
   "cell_type": "code",
   "execution_count": 4,
   "metadata": {
    "collapsed": false
   },
   "outputs": [],
   "source": [
    "point, Coordinate = getCoordinate()\n",
    "#ep = getCircle(point)\n",
    "Data_all = getOnlineDataFromMS_Station(Coordinate)\n",
    "Data = Data_all[10]\n",
    "xn = 10\n",
    "yn = 10\n",
    "xmin,ymax = getLocationFromKeywords(\"亦庄开发区\")\n",
    "xmax,ymin = getLocationFromKeywords(\"北京植物园\")\n",
    "x_gap = (xmax-xmin)/xn\n",
    "y_gap = (ymax-ymin)/yn\n",
    "for i in range(0,xn):\n",
    "    for j in range(0,yn):\n",
    "        xc = xmin + x_gap * i\n",
    "        yc = ymin + y_gap * j\n",
    "        pc = [xc,yc]\n",
    "        d = DistantBasedInterpolation(Coordinate,Data,pc)\n",
    "        Coordinate.append(pc)\n",
    "        Data.append(d)"
   ]
  },
  {
   "cell_type": "code",
   "execution_count": 5,
   "metadata": {
    "collapsed": false
   },
   "outputs": [
    {
     "name": "stdout",
     "output_type": "stream",
     "text": [
      "No Data\n",
      "No Data\n",
      "No Data\n"
     ]
    }
   ],
   "source": [
    "X_input = []\n",
    "for cor in Coordinate:\n",
    "    x = cor[0]\n",
    "    y = cor[1]\n",
    "    r = 3000\n",
    "    poiV = list(getPOIsFromGPS(x,y,r))\n",
    "    TraffiV = getTrafficFromGPS(x,y,r)\n",
    "    if TraffiV:\n",
    "        Tr = list(TraffiV[0])\n",
    "    else:\n",
    "        Tr = [0,0,0,0]\n",
    "    poiV.extend(Tr)\n",
    "    X_input.append(poiV)\n",
    "    \n",
    "X_input = np.asarray(X_input)\n",
    "y_input = np.asarray(Data)\n",
    "lr = LinearRegression()\n",
    "lr.fit(X_input,y_input)\n",
    "#lr.intercept_,lr.coef_\n",
    "y_pred = lr.predict(X_input)"
   ]
  },
  {
   "cell_type": "code",
   "execution_count": 8,
   "metadata": {
    "collapsed": false
   },
   "outputs": [
    {
     "data": {
      "text/plain": [
       "27719.007839866554"
      ]
     },
     "execution_count": 8,
     "metadata": {},
     "output_type": "execute_result"
    }
   ],
   "source": [
    "sum(y_pred[36:])"
   ]
  },
  {
   "cell_type": "code",
   "execution_count": 9,
   "metadata": {
    "collapsed": false
   },
   "outputs": [
    {
     "data": {
      "text/plain": [
       "27700.081326400777"
      ]
     },
     "execution_count": 9,
     "metadata": {},
     "output_type": "execute_result"
    }
   ],
   "source": [
    "sum(y_input[36:])"
   ]
  },
  {
   "cell_type": "code",
   "execution_count": 7,
   "metadata": {
    "collapsed": false
   },
   "outputs": [
    {
     "data": {
      "text/plain": [
       "array([ 279.63041969,  280.11408612,  282.92878065,  278.30856022,\n",
       "        278.80387954,  279.423809  ,  275.90737416,  275.01106462,\n",
       "        281.79556325,  276.10798392,  286.27299024,  276.70951087,\n",
       "        278.1654621 ,  278.21649406,  278.60113896,  279.0821823 ,\n",
       "        280.37392296,  275.26542491,  278.14723584,  275.69754876,\n",
       "        273.34716698,  276.28082967,  279.2374776 ,  276.51357933,\n",
       "        280.19527244,  276.15865513,  275.50050361,  275.24484079,\n",
       "        274.17068976,  277.87307173,  274.32878103,  278.13321869,\n",
       "        277.13383105,  277.1415091 ,  278.07581154,  278.42873107,\n",
       "        278.03637401,  276.51683631,  278.02224843,  276.45332373,\n",
       "        276.77431369,  276.86039974,  277.43994973,  276.36607683,\n",
       "        277.10469093,  276.34863518,  276.18607571,  275.68005644,\n",
       "        277.60722521,  277.61699786,  277.94864152,  274.16132796,\n",
       "        277.52706755,  277.56861666,  277.42697656,  276.95386698,\n",
       "        280.22315858,  277.46157963,  276.63970857,  276.42953999,\n",
       "        278.09347301,  277.47306866,  276.60239143,  276.42298068,\n",
       "        276.61467776,  276.19945034,  275.21339578,  277.92454339,\n",
       "        277.57939193,  278.3334819 ,  276.34757654,  275.75102869,\n",
       "        276.67277681,  275.41346752,  277.8910056 ,  274.38323641,\n",
       "        276.38428345,  277.26207318,  278.19500855,  276.57012461,\n",
       "        288.92188242,  276.25210017,  275.21336176,  276.11616689,\n",
       "        277.05827774,  274.81697764,  274.65574451,  275.01372473,\n",
       "        278.19438749,  278.14500869,  277.25926947,  274.98786038,\n",
       "        275.36579317,  273.8874337 ,  275.34584109,  274.50324289,\n",
       "        276.44634317,  274.88839329,  276.28502091,  278.64248402])"
      ]
     },
     "execution_count": 7,
     "metadata": {},
     "output_type": "execute_result"
    }
   ],
   "source": [
    "y_pred[36:]"
   ]
  },
  {
   "cell_type": "code",
   "execution_count": 6,
   "metadata": {
    "collapsed": false
   },
   "outputs": [
    {
     "data": {
      "text/plain": [
       "array([ 282.08661869,  280.45057467,  279.20122151,  278.02632526,\n",
       "        276.80571987,  275.63689856,  274.84557746,  274.53248577,\n",
       "        274.42730716,  273.93199215,  281.18458885,  279.78130222,\n",
       "        278.75936221,  277.78240283,  276.71475202,  275.61411582,\n",
       "        275.06262365,  274.99774326,  274.95696801,  274.70234021,\n",
       "        280.35810407,  279.31363468,  278.50964662,  277.66808672,\n",
       "        276.64135033,  275.0417157 ,  274.76948768,  275.16812912,\n",
       "        275.30288286,  275.24544878,  279.7325224 ,  278.94936265,\n",
       "        278.45224101,  277.63138201,  276.70787231,  273.78412825,\n",
       "        274.15272171,  275.24038828,  275.56144271,  275.57794196,\n",
       "        279.37455296,  278.65250653,  278.13717482,  277.47012604,\n",
       "        276.86308051,  277.18910453,  273.02162489,  275.81525457,\n",
       "        275.88093082,  275.85529067,  279.2742269 ,  278.43537773,\n",
       "        277.88203   ,  277.33341272,  276.82081621,  276.44809718,\n",
       "        276.70723157,  276.60914799,  276.28018776,  276.12854249,\n",
       "        279.09774085,  278.242135  ,  277.75101178,  277.26205803,\n",
       "        276.66178337,  276.19945034,  276.74637025,  277.61526579,\n",
       "        276.61804077,  276.31011062,  278.52412613,  278.00102614,\n",
       "        277.65968788,  277.23730539,  276.44938814,  275.80020192,\n",
       "        276.86840853,  277.80308118,  276.67450504,  276.24408908,\n",
       "        277.85162256,  277.70064218,  277.62062654,  277.32660074,\n",
       "        276.476867  ,  275.57293497,  277.2013525 ,  277.33080601,\n",
       "        276.67548754,  276.24501624,  276.73972382,  277.32799393,\n",
       "        277.67686997,  277.703301  ,  276.92584028,  276.79540492,\n",
       "        278.40387487,  277.62444097,  276.94625439,  276.68175284])"
      ]
     },
     "execution_count": 6,
     "metadata": {},
     "output_type": "execute_result"
    }
   ],
   "source": [
    "y_input[36:]"
   ]
  },
  {
   "cell_type": "code",
   "execution_count": null,
   "metadata": {
    "collapsed": true
   },
   "outputs": [],
   "source": [
    "#等高线图\n",
    "import matplotlib.pyplot as plt \n",
    "x = range(0,xn)\n",
    "y = range(0,yn)\n",
    "z = y_pred[36:]\n",
    "z = np.reshape(z,(10,10))\n",
    "z = np.reshape(z,(10,10))\n",
    "fig = plt.figure()\n",
    "#2行2列的子图中的第一个，第一行的第一列\n",
    "subfig1 = fig.add_subplot(1,1,1)\n",
    "#画等值线云图\n",
    "surf1 = plt.contourf(x, y, z)\n",
    "#添加色标\n",
    "fig.colorbar(surf1)\n",
    "#添加标题\n",
    "plt.title('contourf+colorbar')\n",
    "plt.show()"
   ]
  },
  {
   "cell_type": "code",
   "execution_count": null,
   "metadata": {
    "collapsed": true
   },
   "outputs": [],
   "source": [
    "#灰度图\n",
    "im = z\n",
    "plt.subplot(111); plt.imshow(im, cmap='gray')\n",
    "plt.show()"
   ]
  },
  {
   "cell_type": "code",
   "execution_count": 4,
   "metadata": {
    "collapsed": false
   },
   "outputs": [],
   "source": [
    "keywords = \"北京植物园\"\n",
    "x,y = getLocationFromKeywords(keywords)"
   ]
  },
  {
   "cell_type": "code",
   "execution_count": 5,
   "metadata": {
    "collapsed": false
   },
   "outputs": [
    {
     "data": {
      "text/plain": [
       "40.001403"
      ]
     },
     "execution_count": 5,
     "metadata": {},
     "output_type": "execute_result"
    }
   ],
   "source": [
    "x"
   ]
  },
  {
   "cell_type": "code",
   "execution_count": 6,
   "metadata": {
    "collapsed": false
   },
   "outputs": [
    {
     "data": {
      "text/plain": [
       "116.209714"
      ]
     },
     "execution_count": 6,
     "metadata": {},
     "output_type": "execute_result"
    }
   ],
   "source": [
    "y"
   ]
  },
  {
   "cell_type": "code",
   "execution_count": null,
   "metadata": {
    "collapsed": true
   },
   "outputs": [],
   "source": []
  }
 ],
 "metadata": {
  "kernelspec": {
   "display_name": "Python 2",
   "language": "python",
   "name": "python2"
  },
  "language_info": {
   "codemirror_mode": {
    "name": "ipython",
    "version": 2
   },
   "file_extension": ".py",
   "mimetype": "text/x-python",
   "name": "python",
   "nbconvert_exporter": "python",
   "pygments_lexer": "ipython2",
   "version": "2.7.11"
  }
 },
 "nbformat": 4,
 "nbformat_minor": 0
}
