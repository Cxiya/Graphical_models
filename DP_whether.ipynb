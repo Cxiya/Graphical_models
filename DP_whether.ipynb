{
 "cells": [
  {
   "cell_type": "code",
   "execution_count": 1,
   "metadata": {
    "collapsed": false
   },
   "outputs": [],
   "source": [
    "def SplitDatabyOrder(n,X_all,y_all):#split data into n+1 group\n",
    "    len_num = len(X_all)\n",
    "    ng = len_num/n\n",
    "    X_all_train = list()\n",
    "    y_all_train = list()\n",
    "    for i in range(0,n):\n",
    "        X_per_group = X_all[i*ng:(i+1)*ng]\n",
    "        X_all_train.append(X_per_group)\n",
    "        Y_per_group = y_all[i*ng:(i+1)*ng]\n",
    "        y_all_train.append(Y_per_group)\n",
    "    X_per_group = X_all[n*ng:]\n",
    "    X_all_train.append(X_per_group)\n",
    "    Y_per_group = y_all[n*ng:]\n",
    "    y_all_train.append(Y_per_group)\n",
    "    return X_all_train,y_all_train"
   ]
  },
  {
   "cell_type": "code",
   "execution_count": 2,
   "metadata": {
    "collapsed": true
   },
   "outputs": [],
   "source": [
    "def SplitData_Merge(n,n_p,X_all,y_all):\n",
    "    len_num = len(X_all)#number of data\n",
    "    per_p = len_num/n_p#estimate number of data in per position\n",
    "    ng = per_p/n\n",
    "    X_all_train = list()\n",
    "    y_all_train = list()\n",
    "    for i in range(0,n):\n",
    "        X_per_group = list()\n",
    "        y_per_group = list()\n",
    "        for j in range(0,n_p):\n",
    "            X_per_group.extend(X_all[j*per_p+i*ng:j*per_p+(i+1)*ng])\n",
    "            y_per_group.extend(y_all[j*per_p+i*ng:j*per_p+(i+1)*ng])\n",
    "        X_all_train.append(X_per_group)\n",
    "        y_all_train.append(y_per_group)\n",
    "    X_per_group = X_all[n_p*per_p:]\n",
    "    X_all_train.append(X_per_group)\n",
    "    Y_per_group = y_all[n_p*per_p:]\n",
    "    y_all_train.append(Y_per_group)\n",
    "    return X_all_train,y_all_train"
   ]
  },
  {
   "cell_type": "code",
   "execution_count": 3,
   "metadata": {
    "collapsed": false
   },
   "outputs": [],
   "source": [
    "def mapYtocontinue(y):\n",
    "    yo = list()\n",
    "    d = dict()\n",
    "    for yi in y:\n",
    "        yo.append(yi)\n",
    "    ys = list(set(y))\n",
    "    ys.sort()\n",
    "    ym = list()\n",
    "    for yi in yo:\n",
    "        ym.append(ys.index(yi))\n",
    "        d[ys.index(yi)] = yi\n",
    "    return ym,d\n",
    "#y = [2,1,4,6,7,2,23,82,4238,12,4,1,3,5,21]\n",
    "#ym,d = mapYtocontinue(y)"
   ]
  },
  {
   "cell_type": "code",
   "execution_count": 4,
   "metadata": {
    "collapsed": true
   },
   "outputs": [],
   "source": [
    "import numpy as np;\n",
    "import re;\n",
    "import time;\n",
    "from datetime import datetime\n",
    "import pickle\n",
    "from pystruct.models import ChainCRF\n",
    "from pystruct.learners import FrankWolfeSSVM\n",
    "from pystruct.utils import SaveLogger\n",
    "#import matplotlib.pyplot as plt\n",
    "sec_len = 6;#the length of time slot when training \n",
    "y_index = 2;\n",
    "fea_w = list();#whether feature in every time slot\n",
    "whether = list();#all whether features\n",
    "slot_a = list();#\n",
    "AQI = list();\n",
    "ToRec = False;\n",
    "ToSplitTime = False;"
   ]
  },
  {
   "cell_type": "code",
   "execution_count": 5,
   "metadata": {
    "collapsed": true
   },
   "outputs": [],
   "source": [
    "file_ads = \"/Users/Claire/Desktop/intern/20170313/CrawledData_inter1.txt\";\n",
    "f = open(file_ads,\"r\");\n",
    "line = f.readline();\n",
    "row = list();#record every line in integer format\n",
    "record = list();#record all lines in integer format\n",
    "continue_t = list();\n",
    "linenum = 0;#flag to record the length of lines\n",
    "flag = True;"
   ]
  },
  {
   "cell_type": "code",
   "execution_count": 6,
   "metadata": {
    "collapsed": false
   },
   "outputs": [],
   "source": [
    "if ToRec:\n",
    "    while line:\n",
    "        line = f.readline()\n",
    "        linenum = linenum + 1\n",
    "    #if linenum%10000 == 0:\n",
    "        #print linenum\n",
    "        if line == '':\n",
    "        #print linenum\n",
    "            break\n",
    "        temp = re.split(',',line);\n",
    "        row.append(int(temp[0]))\n",
    "        dt_obj = datetime.strptime(temp[1], '%m/%d/%Y %I:%M:%S %p')\n",
    "        temp[1] = dt_obj.strftime('%Y-%m-%d %H:%M:%S')\n",
    "        timeArray = time.strptime(temp[1], \"%Y-%m-%d %H:%M:%S\")\n",
    "        timeStamp = int(time.mktime(timeArray))\n",
    "        row.append(timeStamp)\n",
    "        for i in range(2,5):\n",
    "            if temp[i] == '' or temp[i] =='\\r\\n':\n",
    "            #print temp[i]\n",
    "                row.append('NA')\n",
    "            else:\n",
    "                temp[i] = int(temp[i])\n",
    "                row.append(temp[i])\n",
    "        for i in range(5,10):\n",
    "            if temp[i] == '' or temp[i] =='\\r\\n':\n",
    "            #print temp[i]\n",
    "                row.append('NA')\n",
    "            else:\n",
    "                temp[i] = float(temp[i])\n",
    "                row.append(temp[i])\n",
    "        record.append(row)\n",
    "        row = list()\n",
    "    f.close()\n",
    "    output = open('record_integer_format.pkl','wb')\n",
    "    pickle.dump(record,output,0)\n",
    "    output.close()\n",
    "else:\n",
    "    pkl_file = open('record_integer_format.pkl', 'rb')\n",
    "    record = pickle.load(pkl_file)\n",
    "    pkl_file.close()"
   ]
  },
  {
   "cell_type": "code",
   "execution_count": 7,
   "metadata": {
    "collapsed": false
   },
   "outputs": [],
   "source": [
    "#calculate the length of continue time slot\n",
    "if ToSplitTime:\n",
    "    r_len = len(record)\n",
    "    continue_t = list();#{(start_time,end_time,length)}\n",
    "    i=0;\n",
    "    while i < r_len:\n",
    "        #if i%10000 == 0:\n",
    "            #print i\n",
    "        for j in range(i+1,r_len):\n",
    "            if record[j][1]-record[j-1][1] != 3600 :\n",
    "                continue_t.append([i,j-1,j-1-i])\n",
    "                i = j;\n",
    "                break;\n",
    "    #if j > 169900:\n",
    "        #print j\n",
    "        if j == r_len-1:\n",
    "            break;\n",
    "    output = open('continue_time_slot.pkl','wb')\n",
    "    pickle.dump(continue_t,output,0)\n",
    "    output.close()\n",
    "else:\n",
    "    pkl_file = open('continue_time_slot.pkl', 'rb')\n",
    "    continue_t = pickle.load(pkl_file)\n",
    "    pkl_file.close()"
   ]
  },
  {
   "cell_type": "code",
   "execution_count": 8,
   "metadata": {
    "collapsed": true
   },
   "outputs": [],
   "source": [
    "#calculate features to whether #time_slots * len_slot * (whether_feature + time order)\n",
    "whether = list();\n",
    "for i in range(0,len(continue_t)):\n",
    "    if continue_t[i][2] >= sec_len-1:\n",
    "        k = continue_t[i][0];\n",
    "        while k < continue_t[i][1] - sec_len:\n",
    "            for m in range(0,sec_len):\n",
    "                #add time order as a feature\n",
    "                a = record[k+m][5:]\n",
    "                a.append(m)\n",
    "                fea_w.append(a)\n",
    "                slot_a.append(record[k+m][y_index])\n",
    "            fea_w = np.array(fea_w, dtype = np.int16)\n",
    "            slot_a = np.array(slot_a,dtype = np.int16)\n",
    "            whether.append(fea_w)\n",
    "            AQI.append(slot_a)\n",
    "            fea_w = list()\n",
    "            slot_a = list()\n",
    "            k = k + 1"
   ]
  },
  {
   "cell_type": "code",
   "execution_count": 9,
   "metadata": {
    "collapsed": false
   },
   "outputs": [],
   "source": [
    "XAT,YAT = SplitData_Merge(30,36,whether,AQI)"
   ]
  },
  {
   "cell_type": "code",
   "execution_count": null,
   "metadata": {
    "collapsed": false
   },
   "outputs": [],
   "source": [
    "for i in range(0,30):\n",
    "    experiment_name = \"ssvm_trainval\"+str(i)\n",
    "    X_train =  np.array(XAT[i])\n",
    "    y_ = np.array(YAT[i])\n",
    "    yf = list(y_.flatten())\n",
    "    ym,d = mapYtocontinue(yf)\n",
    "    y_train = (np.array(ym)).reshape(len(y_),sec_len)\n",
    "    model = ChainCRF()\n",
    "    ssvm = FrankWolfeSSVM(model=model, C=.1, max_iter=10, logger=SaveLogger(experiment_name + \".pickle\", save_every=10))\n",
    "    ssvm.fit(X_train, y_train) "
   ]
  },
  {
   "cell_type": "code",
   "execution_count": 13,
   "metadata": {
    "collapsed": false
   },
   "outputs": [],
   "source": [
    "savedSSVM = SaveLogger(\"/Users/Claire/Desktop/intern/20170317/ssvm_trainval.pickle\").load()\n",
    "X_test = np.array(XAT[0])\n",
    "y_ = np.array(YAT[0])\n",
    "yf = list(y_.flatten())\n",
    "ym,d = mapYtocontinue(yf)\n",
    "y_test = (np.array(ym)).reshape(len(y_),sec_len)"
   ]
  },
  {
   "cell_type": "code",
   "execution_count": 14,
   "metadata": {
    "collapsed": false
   },
   "outputs": [
    {
     "data": {
      "text/plain": [
       "0.0"
      ]
     },
     "execution_count": 14,
     "metadata": {},
     "output_type": "execute_result"
    }
   ],
   "source": [
    "savedSSVM.score(X_test[567:575],y_test[567:575])"
   ]
  },
  {
   "cell_type": "code",
   "execution_count": 15,
   "metadata": {
    "collapsed": false
   },
   "outputs": [
    {
     "data": {
      "text/plain": [
       "[array([201, 201, 201, 201, 201, 201]),\n",
       " array([201, 201, 201, 201, 201, 201]),\n",
       " array([201, 201, 201, 201, 201, 201]),\n",
       " array([201, 201, 201, 201, 201, 201]),\n",
       " array([201, 201, 201, 201, 201, 201])]"
      ]
     },
     "execution_count": 15,
     "metadata": {},
     "output_type": "execute_result"
    }
   ],
   "source": [
    "savedSSVM.predict(X_test[385:390])"
   ]
  },
  {
   "cell_type": "code",
   "execution_count": 16,
   "metadata": {
    "collapsed": false
   },
   "outputs": [
    {
     "data": {
      "text/plain": [
       "array([[160, 166, 173, 172, 167, 167],\n",
       "       [166, 173, 172, 167, 167, 197],\n",
       "       [173, 172, 167, 167, 197, 208],\n",
       "       [172, 167, 167, 197, 208, 206],\n",
       "       [167, 167, 197, 208, 206, 219]])"
      ]
     },
     "execution_count": 16,
     "metadata": {},
     "output_type": "execute_result"
    }
   ],
   "source": [
    "y_test[385:390]"
   ]
  },
  {
   "cell_type": "code",
   "execution_count": null,
   "metadata": {
    "collapsed": true
   },
   "outputs": [],
   "source": []
  }
 ],
 "metadata": {
  "kernelspec": {
   "display_name": "Python 2",
   "language": "python",
   "name": "python2"
  },
  "language_info": {
   "codemirror_mode": {
    "name": "ipython",
    "version": 2
   },
   "file_extension": ".py",
   "mimetype": "text/x-python",
   "name": "python",
   "nbconvert_exporter": "python",
   "pygments_lexer": "ipython2",
   "version": "2.7.11"
  }
 },
 "nbformat": 4,
 "nbformat_minor": 0
}
