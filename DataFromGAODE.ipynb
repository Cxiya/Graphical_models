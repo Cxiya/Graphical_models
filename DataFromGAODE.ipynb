{
 "cells": [
  {
   "cell_type": "code",
   "execution_count": 1,
   "metadata": {
    "collapsed": false
   },
   "outputs": [],
   "source": [
    "from urllib2 import Request, urlopen, URLError\n",
    "from bs4 import BeautifulSoup\n",
    "import re\n",
    "import turtle\n",
    "import time\n",
    "import numpy as np\n",
    "import math\n",
    "#import matplotlib.pyplot as plt\n",
    "from scipy.interpolate import Rbf\n",
    "#from matplotlib import cm\n",
    "PI = 3.1415926\n",
    "classification = [[1,2,3,4],5,[6,7],[8,11],9,10,12,[13,14,16],15,17,18,20]#POI classification\n",
    "para = ['AQI','NO2','PM25','PM10','CO','O3','SO2','Wind','Pressure','Temperature','Humidity']"
   ]
  },
  {
   "cell_type": "code",
   "execution_count": null,
   "metadata": {
    "collapsed": true
   },
   "outputs": [],
   "source": [
    "def POIBasedInterpolation(Coordinate,Data,currentC):\n",
    "    Dist = list()\n",
    "    #DIS = 0\n",
    "    d = 0\n",
    "    #Dist_copy = list()\n",
    "    POIC = getPOIsFromGPS(currentC[0],currentC[1],1000)\n",
    "    for cor in Coordinate:\n",
    "        POI = getPOIsFromGPS(cor[0],cor[1],1000)\n",
    "        dis = (np.sqrt(((cor - currentC)**2)))**(-1)\n",
    "        Dist.append(dis)\n",
    "        #DIS = DIS + dis\n",
    "    for i in range(0,len(Coordinate)):\n",
    "        #print Dist[i]\n",
    "        d = d + (Dist[i]/DIS)*Data[i]\n",
    "    return d"
   ]
  },
  {
   "cell_type": "code",
   "execution_count": 2,
   "metadata": {
    "collapsed": true
   },
   "outputs": [],
   "source": [
    "def getOnlineDataFromMS(Coordinate):\n",
    "    Data = list()\n",
    "    for i in range(0,11):\n",
    "        l = list()\n",
    "        Data.append(l)\n",
    "    for cor in Coordinate:\n",
    "        URL = 'http://urbanair.msra.cn/U_Air/SearchGeoPoint?Latitude='+str(cor[0])+'&Longitude='+str(cor[1])+'&Standard=0&Culture=zh-CN'\n",
    "        request = Request(URL)\n",
    "        try:\n",
    "            response = urlopen(request)\n",
    "            kittens = response.read()\n",
    "            llist = re.split(':',kittens);\n",
    "            #print kittens\n",
    "            for i in range(1,8):\n",
    "                a = re.split(',',llist[i])\n",
    "                if a[0] == 'null':\n",
    "                    Data[i-1].append(None)\n",
    "                else:\n",
    "                    Data[i-1].append(float(a[0]))\n",
    "                #print type(kittens)\n",
    "            for i in range(10,14):\n",
    "                a = re.split(',',llist[i])\n",
    "                if a[0] == 'null':\n",
    "                    Data[i-3].append(None)\n",
    "                else:\n",
    "                    Data[i-3].append(float(a[0]))\n",
    "                #print type(kittens)\n",
    "        except URLError, e:\n",
    "            print 'Got an error code:', e\n",
    "    return Data"
   ]
  },
  {
   "cell_type": "code",
   "execution_count": 3,
   "metadata": {
    "collapsed": true
   },
   "outputs": [],
   "source": [
    "def getPredictPM25FromGPS(x,y):\n",
    "    URL = 'http://urbanair.msra.cn/U_Air/SearchPrediction_48V2?Latitude=' + str(x) + '&Longitude=' + str(y) + '&Pollutant=PM25' \n",
    "    request = Request(URL)\n",
    "    predict = []\n",
    "    try:\n",
    "        response = urlopen(request)\n",
    "        kittens = response.read()\n",
    "        llist = re.split(':',kittens);\n",
    "        llist = re.split(',',llist[1])\n",
    "        predict.append(int(llist[0][1:]))\n",
    "        for i in range(1,13):\n",
    "            predict.append(int(llist[i]))\n",
    "        predict.append(int(llist[13][:-1]))\n",
    "    except URLError, e:\n",
    "        print 'Got an error code:', e\n",
    "    return predict#[0:7定时预测，8:13三个区间]"
   ]
  },
  {
   "cell_type": "code",
   "execution_count": 4,
   "metadata": {
    "collapsed": true
   },
   "outputs": [],
   "source": [
    "def getTrafficFromGPS(x,y,r):\n",
    "    URL = 'http://restapi.amap.com/v3/traffic/status/circle?key=b2a732f0d7cddfcdc81bee76938e34c2&location='+str(y)+','+str(x)+'&radius='+str(r)+'&output=xml&offset=20&page=1&extensions=all' \n",
    "    request = Request(URL)\n",
    "    try:\n",
    "        response = urlopen(request)\n",
    "        kittens = response.read()\n",
    "    except URLError, e:\n",
    "        print 'Got an error code:', e\n",
    "    soup = BeautifulSoup(kittens,\"html.parser\")\n",
    "    trafficV = np.zeros(4)\n",
    "    #print type(soup.evaluation.contents)\n",
    "    if soup.evaluation==None:\n",
    "        print(\"No Data\")\n",
    "        return False\n",
    "    if soup.evaluation.expedite.contents==[]:\n",
    "        print (\"No Data\")\n",
    "        return False\n",
    "    #print soup.evaluation.congested.contents\n",
    "    #print soup.evaluation.blocked.contents\n",
    "    #print soup.evaluation.unknown.contents\n",
    "    trafficV[0] = float(soup.evaluation.expedite.contents[0][:4])\n",
    "    trafficV[1] = float(soup.evaluation.congested.contents[0][:4])\n",
    "    trafficV[2] = float(soup.evaluation.blocked.contents[0][:4])\n",
    "    trafficV[3] = float(soup.evaluation.unknown.contents[0][:4])\n",
    "    return trafficV"
   ]
  },
  {
   "cell_type": "code",
   "execution_count": 5,
   "metadata": {
    "collapsed": true
   },
   "outputs": [],
   "source": [
    "def getPOIsFromGPS(x,y,r):\n",
    "    URL = 'http://restapi.amap.com/v3/place/around?key=b2a732f0d7cddfcdc81bee76938e34c2&location='+str(y)+','+str(x)+'&output=xml&radius='+str(r)+'&offset=20&page=1&extensions=all'\n",
    "    request = Request(URL)\n",
    "    try:\n",
    "        response = urlopen(request)\n",
    "        kittens = response.read()\n",
    "    except URLError, e:\n",
    "        print 'Got an error code:', e\n",
    "    soup = BeautifulSoup(kittens,\"html.parser\")\n",
    "    a = soup.pois\n",
    "    poiV = np.zeros(12)\n",
    "    for child in a:\n",
    "        b = int(child.typecode.contents[0])\n",
    "        if b/10000>0 and b/10000<5:\n",
    "            poiV[0] = poiV[0]+1\n",
    "        elif b/10000==5:\n",
    "            poiV[1] = poiV[1]+1\n",
    "        elif b/10000==6 or b/10000==7:\n",
    "            poiV[2] = poiV[2]+1\n",
    "        elif b/10000==8 or b/10000==11:\n",
    "            poiV[3] = poiV[3]+1\n",
    "        elif b/10000==9:\n",
    "            poiV[4] = poiV[4]+1\n",
    "        elif b/10000==10:\n",
    "            poiV[5] = poiV[5]+1\n",
    "        elif b/10000==12:\n",
    "            poiV[6] = poiV[6]+1\n",
    "        elif b/10000==13 or b/10000==14 or b/10000==16:\n",
    "            poiV[7] = poiV[7]+1\n",
    "        elif b/10000==15:\n",
    "            poiV[5] = poiV[8]+1\n",
    "        elif b/10000==17:\n",
    "            poiV[5] = poiV[9]+1\n",
    "        elif b/10000==18:\n",
    "            poiV[5] = poiV[10]+1\n",
    "        elif b/10000==20:\n",
    "            poiV[5] = poiV[11]+1\n",
    "    return poiV"
   ]
  },
  {
   "cell_type": "code",
   "execution_count": 6,
   "metadata": {
    "collapsed": true
   },
   "outputs": [],
   "source": [
    "def getLocationFromKeywords(keywords):\n",
    "    URL = 'http://restapi.amap.com/v3/place/text?&keywords=' + keywords + '&city=beijing&output=xml&offset=20&page=1&key='+'b2a732f0d7cddfcdc81bee76938e34c2' + '&extensions=all'\n",
    "    request = Request(URL)\n",
    "    try:\n",
    "        response = urlopen(request)\n",
    "        kittens = response.read()\n",
    "    except URLError, e:\n",
    "        print 'Got an error code:', e\n",
    "    soup = BeautifulSoup(kittens,\"html.parser\")\n",
    "    Str = soup.location.string\n",
    "    lstr = re.split(',',Str)\n",
    "    lon = float(lstr[0])\n",
    "    lat = float(lstr[1])\n",
    "    return lat,lon"
   ]
  },
  {
   "cell_type": "code",
   "execution_count": 7,
   "metadata": {
    "collapsed": true
   },
   "outputs": [],
   "source": [
    "def DistantBasedInterpolation(Coordinate,Data,currentC):\n",
    "    Dist = list()\n",
    "    DIS = 0\n",
    "    d = 0\n",
    "    #Dist_copy = list()\n",
    "    for cor in Coordinate:\n",
    "        dis = (np.sqrt(((cor[0] - currentC[0])**2+(cor[1]-currentC[1])**2)))**(-1)\n",
    "        Dist.append(dis)\n",
    "        DIS = DIS + dis\n",
    "    for i in range(0,len(Coordinate)):\n",
    "        #print Dist[i]\n",
    "        d = d + (Dist[i]/DIS)*Data[i]\n",
    "    return d"
   ]
  },
  {
   "cell_type": "code",
   "execution_count": 8,
   "metadata": {
    "collapsed": true
   },
   "outputs": [],
   "source": [
    "def compare(a,b):\n",
    "    x=[a[0]-p0[0],a[1]-p0[1]]\n",
    "    y=[b[0]-p0[0],b[1]-p0[1]]\n",
    "    dx=(x[0]**2+x[1]**2)**0.5\n",
    "    dy=(y[0]**2+y[1]**2)**0.5\n",
    "    cosa=x[0]/dx\n",
    "    cosb=y[0]/dy\n",
    "    if cosa < cosb:\n",
    "        return 1\n",
    "    elif cosa > cosb:\n",
    "        return -1\n",
    "    else:\n",
    "        if dx<dy:\n",
    "            return -1\n",
    "        elif dx>dy:\n",
    "            return 1\n",
    "        else:\n",
    "            return 0"
   ]
  },
  {
   "cell_type": "code",
   "execution_count": 9,
   "metadata": {
    "collapsed": true
   },
   "outputs": [],
   "source": [
    "def windingNumber(p, poly):\n",
    "    sum = 0\n",
    "    px = p[0]\n",
    "    py = p[1]\n",
    "    print px,py\n",
    "    l = len(poly)\n",
    "    for i in range(0,l):\n",
    "        if i == 0:\n",
    "            j = l-1\n",
    "        else:\n",
    "            j = i-1\n",
    "        sx = poly[i][0]\n",
    "        sy = poly[i][1]\n",
    "        tx = poly[j][0]\n",
    "        ty = poly[j][1]\n",
    "        #点与多边形顶点重合或在多边形的边上\n",
    "        if (sx - px) * (px - tx) >= 0 and (sy - py) * (py - ty) >= 0 and (px - sx) * (ty - sy) == (py - sy) * (tx - sx):\n",
    "            return True\n",
    "        #点与相邻顶点连线的夹角\n",
    "        angle = math.atan2(sy - py, sx - px) - math.atan2(ty - py, tx - px)\n",
    "        #确保夹角不超出取值范围（-π 到 π）\n",
    "        if angle >= PI:\n",
    "            angle = angle - PI * 2\n",
    "        elif angle <= -PI: \n",
    "            angle = angle + PI * 2\n",
    "        sum =sum + angle\n",
    "        #计算回转数并判断点和多边形的几何关系\n",
    "        if sum / PI >= -0.01 and sum / PI <= 0.01:\n",
    "            return False\n",
    "        else:\n",
    "            return True"
   ]
  },
  {
   "cell_type": "code",
   "execution_count": 10,
   "metadata": {
    "collapsed": true
   },
   "outputs": [],
   "source": [
    "def ScatterInterpolation(Coordinate,currentC,Data):\n",
    "    x = []\n",
    "    y = []\n",
    "    for i in range(0,len(Coordinate)):\n",
    "        x.append(Coordinate[i][0])\n",
    "        y.append(Coordinate[i][1])\n",
    "    x = np.asarray(x)\n",
    "    y = np.asarray(y)\n",
    "    z = np.asarray(Data)\n",
    "    rbf = Rbf(x, y, z, epsilon=1)\n",
    "    ZI = rbf(currentC[0], currentC[1])\n",
    "    return ZI"
   ]
  },
  {
   "cell_type": "code",
   "execution_count": 11,
   "metadata": {
    "collapsed": true
   },
   "outputs": [],
   "source": [
    "def TriangleInterpolation(x1,y1,x2,y2,x3,y3,x,y,a,b,c):\n",
    "    d = a + (b-a)*((x-x1)*(y3-y1)+(y-y1)*(x1-x3))/((y3-y1)*(x2-x1)+(y1-y2)*(x3-x1)) +\\\n",
    "    (c-a)*((y-y1)*(x2-x1)+(y1-y2)*(x-x1))/((y3-y1)*(x2-x1)+(y1-y2)*(x3-x1))\n",
    "    return d    "
   ]
  },
  {
   "cell_type": "code",
   "execution_count": 12,
   "metadata": {
    "collapsed": true
   },
   "outputs": [],
   "source": [
    "def FindThreePoints(Coordinate,currentC):\n",
    "    Dist = list()\n",
    "    #Dist_copy = list()\n",
    "    for cor in Coordinate:\n",
    "        dis = np.sqrt(((cor[0] - currentC[0])**2+(cor[1]-currentC[1])**2))\n",
    "        Dist.append(dis)\n",
    "        #Dist_copy.append(dis)\n",
    "    MAX = max(Dist)\n",
    "    p1 = Dist.index(min(Dist))\n",
    "    Dist[p1] = MAX\n",
    "    p2 = Dist.index(min(Dist))\n",
    "    Dist[p2] = MAX\n",
    "    p3 = Dist.index(min(Dist))\n",
    "    #return Dist_copy[p1],Dist_copy[p2],Dist_copy[p3]\n",
    "    return Coordinate[p1],Coordinate[p2],Coordinate[p3]"
   ]
  },
  {
   "cell_type": "code",
   "execution_count": 13,
   "metadata": {
    "collapsed": false
   },
   "outputs": [],
   "source": [
    "#get coordinate of 36 positions\n",
    "def getCoordinate():\n",
    "    file_ads = \"/Users/Claire/Desktop/intern/20170317/UrbanAir_get/airStation.txt\" \n",
    "    f = open(file_ads,\"r\");\n",
    "    line = f.readline();\n",
    "    point = list()\n",
    "    Coordinate = list()\n",
    "    while line:\n",
    "    #print line\n",
    "        llist = re.split('=',line);\n",
    "        x = re.split('&',llist[1])\n",
    "        y = re.split('&',llist[2])\n",
    "        cor = [float(x[0]),float(y[0])]\n",
    "        point.append(cor)\n",
    "        Coordinate.append(cor)\n",
    "        line = f.readline();\n",
    "    return point, Coordinate"
   ]
  },
  {
   "cell_type": "code",
   "execution_count": null,
   "metadata": {
    "collapsed": true
   },
   "outputs": [],
   "source": [
    "def getCircle(point):\n",
    "    n=0\n",
    "    for i in range(len(point)):\n",
    "        if point[n][1]>point[i][1]:\n",
    "            n=i\n",
    "    p0=point[n]\n",
    "    point.pop(n)\n",
    "    point.sort(compare)\n",
    "    point.insert(0,p0)\n",
    "    ep=point[:]#复制元素，操作ep不会对point产生影响\n",
    "    tag=0\n",
    "    while tag==0:\n",
    "        tag=1\n",
    "        l=len(ep)\n",
    "        for i in range(l):\n",
    "            i1,i2,i3=(i,(i+1)%l,(i+2)%l)\n",
    "            x,y,z=(ep[i1],ep[i2],ep[i3])\n",
    "            a1,a2=((y[0]-x[0],y[1]-x[1]),(z[0]-y[0],z[1]-y[1]))\n",
    "            if a1[0]*a2[1]-a1[1]*a2[0] < 0:\n",
    "                tag=0\n",
    "                ep.pop(i2)\n",
    "                break\n",
    "            elif a1[0]*a2[1]-a1[1]*a2[0]==0 and a1[0]*a2[0]<0:\n",
    "            #==0应改写,360度的情况\n",
    "                tag=0\n",
    "                ep.pop(i2)\n",
    "                break\n",
    "    return ep;"
   ]
  },
  {
   "cell_type": "code",
   "execution_count": null,
   "metadata": {
    "collapsed": true
   },
   "outputs": [],
   "source": [
    "def getDataForKeywords(keywords):\n",
    "    point,Coordinate = getCoordinate()\n",
    "    x,y = getLocationFromKeywords(\"北京大学\")\n",
    "    p = [x,y]\n",
    "    Data = getOnlineDataFromMS(Coordinate)\n",
    "    if windingNumber(p,Coordinate):\n",
    "        d = DistantBasedInterpolation(Coordinate,Data[0],p)\n",
    "    else:\n",
    "        poiV = getPOIsFromGPS(x,y,1000)\n",
    "        TrafficV = getTrafficFromGPS(x,y,1000)"
   ]
  },
  {
   "cell_type": "code",
   "execution_count": 14,
   "metadata": {
    "collapsed": false
   },
   "outputs": [
    {
     "name": "stdout",
     "output_type": "stream",
     "text": [
      "39.99281 116.31088\n"
     ]
    }
   ],
   "source": [
    "x,y = getLocationFromKeywords(\"北京大学\")\n",
    "p = [x,y]\n",
    "Data = getOnlineDataFromMS(Coordinate)\n",
    "if windingNumber(p,Coordinate):\n",
    "    d = DistantBasedInterpolation(Coordinate,Data[0],p)\n",
    "else:\n",
    "    poiV = getPOIsFromGPS(x,y,1000)\n",
    "    TV = getTrafficFromGPS(x,y,1000)"
   ]
  },
  {
   "cell_type": "code",
   "execution_count": 16,
   "metadata": {
    "collapsed": false
   },
   "outputs": [
    {
     "name": "stdout",
     "output_type": "stream",
     "text": [
      "No Data\n",
      "No Data\n",
      "No Data\n",
      "No Data\n",
      "No Data\n",
      "No Data\n",
      "No Data\n",
      "No Data\n"
     ]
    }
   ],
   "source": [
    "for cor in Coordinate:\n",
    "    getTrafficFromGPS(cor[0],cor[1],1000)"
   ]
  },
  {
   "cell_type": "code",
   "execution_count": null,
   "metadata": {
    "collapsed": true
   },
   "outputs": [],
   "source": []
  }
 ],
 "metadata": {
  "kernelspec": {
   "display_name": "Python 2",
   "language": "python",
   "name": "python2"
  },
  "language_info": {
   "codemirror_mode": {
    "name": "ipython",
    "version": 2
   },
   "file_extension": ".py",
   "mimetype": "text/x-python",
   "name": "python",
   "nbconvert_exporter": "python",
   "pygments_lexer": "ipython2",
   "version": "2.7.11"
  }
 },
 "nbformat": 4,
 "nbformat_minor": 0
}
