{
 "cells": [
  {
   "cell_type": "code",
   "execution_count": 1,
   "metadata": {
    "collapsed": false
   },
   "outputs": [],
   "source": [
    "import cStringIO, urllib2\n",
    "from PIL import Image,ImageStat"
   ]
  },
  {
   "cell_type": "code",
   "execution_count": 2,
   "metadata": {
    "collapsed": false
   },
   "outputs": [],
   "source": [
    "def getTrafficFromPicture(day,hh,x,y):\n",
    "    url = 'http://history.traffic.amap.com/traffic?type=2&day=' + str(day) + '&hh=' + str(hh) + '&mm=0&x=' + str(x) + '&y=' + str(y) + '&z=15'\n",
    "    print url\n",
    "    f = urllib2.urlopen(url)\n",
    "    tmpIm = cStringIO.StringIO(f.read())\n",
    "    im = Image.open(tmpIm)\n",
    "    x,y = im.size\n",
    "    RR = 0;\n",
    "    GG = 0;\n",
    "    YY = 0;\n",
    "    for i in range(0,x):\n",
    "        for j in range(0,y):\n",
    "            R,G,B,O = im.getpixel((i,j))\n",
    "            if R>130 and G<50 and B<50:\n",
    "                RR = RR + 1\n",
    "            if R>200 and G>200 and B<10:\n",
    "                YY = YY + 1\n",
    "            if R<100 and G>150 and B<10:\n",
    "                GG = GG + 1\n",
    "    return RR,GG,YY"
   ]
  },
  {
   "cell_type": "code",
   "execution_count": 3,
   "metadata": {
    "collapsed": false
   },
   "outputs": [],
   "source": [
    "def getPredictTrafficForSpot(day,hh,x,y):\n",
    "    R = []\n",
    "    G = []\n",
    "    Y = []\n",
    "    for i in range(-1,2):\n",
    "        for j in range(-1,2):\n",
    "            r,g,ye = getTrafficFromPicture(day,hh,x+i,y+j)\n",
    "            R.append(r)\n",
    "            G.append(g)\n",
    "            Y.append(ye)\n",
    "    R = sum(R)\n",
    "    G = sum(G)\n",
    "    Y = sum(Y)\n",
    "    print R,G,Y\n",
    "    SumC = R + G + Y\n",
    "    TrafficV = [G/float(SumC),Y/float(SumC),R/float(SumC),0]\n",
    "    return TrafficV,True"
   ]
  },
  {
   "cell_type": "code",
   "execution_count": 8,
   "metadata": {
    "collapsed": false
   },
   "outputs": [
    {
     "name": "stdout",
     "output_type": "stream",
     "text": [
      "http://history.traffic.amap.com/traffic?type=2&day=1&hh=8&mm=0&x=26980&y=12421&z=15\n",
      "http://history.traffic.amap.com/traffic?type=2&day=1&hh=8&mm=0&x=26980&y=12422&z=15\n",
      "http://history.traffic.amap.com/traffic?type=2&day=1&hh=8&mm=0&x=26980&y=12423&z=15\n",
      "http://history.traffic.amap.com/traffic?type=2&day=1&hh=8&mm=0&x=26981&y=12421&z=15\n",
      "http://history.traffic.amap.com/traffic?type=2&day=1&hh=8&mm=0&x=26981&y=12422&z=15\n",
      "http://history.traffic.amap.com/traffic?type=2&day=1&hh=8&mm=0&x=26981&y=12423&z=15\n",
      "http://history.traffic.amap.com/traffic?type=2&day=1&hh=8&mm=0&x=26982&y=12421&z=15\n",
      "http://history.traffic.amap.com/traffic?type=2&day=1&hh=8&mm=0&x=26982&y=12422&z=15\n",
      "http://history.traffic.amap.com/traffic?type=2&day=1&hh=8&mm=0&x=26982&y=12423&z=15\n",
      "961 13044 3681\n"
     ]
    }
   ],
   "source": [
    "x = (26962 + 26991)/2+5\n",
    "y = (12406 + 12428)/2+5\n",
    "T,B = getPredictTrafficForSpot(1,8,x,y)"
   ]
  },
  {
   "cell_type": "code",
   "execution_count": 9,
   "metadata": {
    "collapsed": false
   },
   "outputs": [
    {
     "data": {
      "text/plain": [
       "([0.737532511591089, 0.20813072486712655, 0.05433676354178446, 0], True)"
      ]
     },
     "execution_count": 9,
     "metadata": {},
     "output_type": "execute_result"
    }
   ],
   "source": [
    "T,B"
   ]
  },
  {
   "cell_type": "code",
   "execution_count": null,
   "metadata": {
    "collapsed": true
   },
   "outputs": [],
   "source": []
  }
 ],
 "metadata": {
  "kernelspec": {
   "display_name": "Python 2",
   "language": "python",
   "name": "python2"
  },
  "language_info": {
   "codemirror_mode": {
    "name": "ipython",
    "version": 2
   },
   "file_extension": ".py",
   "mimetype": "text/x-python",
   "name": "python",
   "nbconvert_exporter": "python",
   "pygments_lexer": "ipython2",
   "version": "2.7.11"
  }
 },
 "nbformat": 4,
 "nbformat_minor": 0
}
